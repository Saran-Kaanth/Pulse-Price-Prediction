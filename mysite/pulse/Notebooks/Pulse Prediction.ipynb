{
 "cells": [
  {
   "cell_type": "code",
   "execution_count": 3,
   "id": "278c7b51",
   "metadata": {},
   "outputs": [],
   "source": [
    "import pandas as pd\n",
    "import numpy as np\n",
    "from sklearn.preprocessing import LabelEncoder\n",
    "from sklearn.model_selection import train_test_split"
   ]
  },
  {
   "cell_type": "code",
   "execution_count": 19,
   "id": "acd5334a",
   "metadata": {},
   "outputs": [],
   "source": [
    "df=pd.read_csv(\"D:\\\\Pulse Data\\\\pulse_price.csv\")"
   ]
  },
  {
   "cell_type": "code",
   "execution_count": 5,
   "id": "1b85e588",
   "metadata": {},
   "outputs": [
    {
     "data": {
      "text/html": [
       "<div>\n",
       "<style scoped>\n",
       "    .dataframe tbody tr th:only-of-type {\n",
       "        vertical-align: middle;\n",
       "    }\n",
       "\n",
       "    .dataframe tbody tr th {\n",
       "        vertical-align: top;\n",
       "    }\n",
       "\n",
       "    .dataframe thead th {\n",
       "        text-align: right;\n",
       "    }\n",
       "</style>\n",
       "<table border=\"1\" class=\"dataframe\">\n",
       "  <thead>\n",
       "    <tr style=\"text-align: right;\">\n",
       "      <th></th>\n",
       "      <th>item_name</th>\n",
       "      <th>month</th>\n",
       "      <th>year</th>\n",
       "      <th>price</th>\n",
       "    </tr>\n",
       "  </thead>\n",
       "  <tbody>\n",
       "    <tr>\n",
       "      <th>0</th>\n",
       "      <td>Black Gram</td>\n",
       "      <td>1</td>\n",
       "      <td>2016</td>\n",
       "      <td>168.48</td>\n",
       "    </tr>\n",
       "    <tr>\n",
       "      <th>1</th>\n",
       "      <td>Black Gram</td>\n",
       "      <td>2</td>\n",
       "      <td>2016</td>\n",
       "      <td>164.79</td>\n",
       "    </tr>\n",
       "    <tr>\n",
       "      <th>2</th>\n",
       "      <td>Black Gram</td>\n",
       "      <td>3</td>\n",
       "      <td>2016</td>\n",
       "      <td>162.12</td>\n",
       "    </tr>\n",
       "    <tr>\n",
       "      <th>3</th>\n",
       "      <td>Black Gram</td>\n",
       "      <td>4</td>\n",
       "      <td>2016</td>\n",
       "      <td>170.51</td>\n",
       "    </tr>\n",
       "    <tr>\n",
       "      <th>4</th>\n",
       "      <td>Black Gram</td>\n",
       "      <td>5</td>\n",
       "      <td>2016</td>\n",
       "      <td>162.68</td>\n",
       "    </tr>\n",
       "    <tr>\n",
       "      <th>...</th>\n",
       "      <td>...</td>\n",
       "      <td>...</td>\n",
       "      <td>...</td>\n",
       "      <td>...</td>\n",
       "    </tr>\n",
       "    <tr>\n",
       "      <th>2023</th>\n",
       "      <td>Horse Gram (Kulthi)</td>\n",
       "      <td>8</td>\n",
       "      <td>2006</td>\n",
       "      <td>85.24</td>\n",
       "    </tr>\n",
       "    <tr>\n",
       "      <th>2024</th>\n",
       "      <td>Horse Gram (Kulthi)</td>\n",
       "      <td>9</td>\n",
       "      <td>2006</td>\n",
       "      <td>97.21</td>\n",
       "    </tr>\n",
       "    <tr>\n",
       "      <th>2025</th>\n",
       "      <td>Horse Gram (Kulthi)</td>\n",
       "      <td>10</td>\n",
       "      <td>2006</td>\n",
       "      <td>89.31</td>\n",
       "    </tr>\n",
       "    <tr>\n",
       "      <th>2026</th>\n",
       "      <td>Horse Gram (Kulthi)</td>\n",
       "      <td>11</td>\n",
       "      <td>2006</td>\n",
       "      <td>96.78</td>\n",
       "    </tr>\n",
       "    <tr>\n",
       "      <th>2027</th>\n",
       "      <td>Horse Gram (Kulthi)</td>\n",
       "      <td>12</td>\n",
       "      <td>2006</td>\n",
       "      <td>95.87</td>\n",
       "    </tr>\n",
       "  </tbody>\n",
       "</table>\n",
       "<p>2028 rows × 4 columns</p>\n",
       "</div>"
      ],
      "text/plain": [
       "                item_name  month  year   price\n",
       "0              Black Gram      1  2016  168.48\n",
       "1              Black Gram      2  2016  164.79\n",
       "2              Black Gram      3  2016  162.12\n",
       "3              Black Gram      4  2016  170.51\n",
       "4              Black Gram      5  2016  162.68\n",
       "...                   ...    ...   ...     ...\n",
       "2023  Horse Gram (Kulthi)      8  2006   85.24\n",
       "2024  Horse Gram (Kulthi)      9  2006   97.21\n",
       "2025  Horse Gram (Kulthi)     10  2006   89.31\n",
       "2026  Horse Gram (Kulthi)     11  2006   96.78\n",
       "2027  Horse Gram (Kulthi)     12  2006   95.87\n",
       "\n",
       "[2028 rows x 4 columns]"
      ]
     },
     "execution_count": 5,
     "metadata": {},
     "output_type": "execute_result"
    }
   ],
   "source": [
    "df"
   ]
  },
  {
   "cell_type": "code",
   "execution_count": 6,
   "id": "4f431996",
   "metadata": {},
   "outputs": [
    {
     "data": {
      "text/plain": [
       "item_name     object\n",
       "month          int64\n",
       "year           int64\n",
       "price        float64\n",
       "dtype: object"
      ]
     },
     "execution_count": 6,
     "metadata": {},
     "output_type": "execute_result"
    }
   ],
   "source": [
    "df.dtypes"
   ]
  },
  {
   "cell_type": "code",
   "execution_count": 7,
   "id": "8ac6ee81",
   "metadata": {},
   "outputs": [],
   "source": [
    "item=LabelEncoder()"
   ]
  },
  {
   "cell_type": "code",
   "execution_count": 8,
   "id": "5c70184f",
   "metadata": {},
   "outputs": [],
   "source": [
    "df.item_name=item.fit_transform(df.item_name)"
   ]
  },
  {
   "cell_type": "code",
   "execution_count": 9,
   "id": "c2c1e590",
   "metadata": {},
   "outputs": [
    {
     "data": {
      "text/plain": [
       "5     312\n",
       "0     156\n",
       "1     156\n",
       "2     156\n",
       "3     156\n",
       "4     156\n",
       "6     156\n",
       "7     156\n",
       "8     156\n",
       "9     156\n",
       "10    156\n",
       "11    156\n",
       "Name: item_name, dtype: int64"
      ]
     },
     "execution_count": 9,
     "metadata": {},
     "output_type": "execute_result"
    }
   ],
   "source": [
    "df.item_name.value_counts()"
   ]
  },
  {
   "cell_type": "code",
   "execution_count": 10,
   "id": "3fabed41",
   "metadata": {},
   "outputs": [],
   "source": [
    "# x,y=np.array([df.item_name,df.month,df.year]),np.array(df.price)\n",
    "x,y=df[[\"item_name\",\"month\",\"year\"]],df[\"price\"]"
   ]
  },
  {
   "cell_type": "code",
   "execution_count": 11,
   "id": "886c3f5b",
   "metadata": {},
   "outputs": [
    {
     "data": {
      "text/html": [
       "<div>\n",
       "<style scoped>\n",
       "    .dataframe tbody tr th:only-of-type {\n",
       "        vertical-align: middle;\n",
       "    }\n",
       "\n",
       "    .dataframe tbody tr th {\n",
       "        vertical-align: top;\n",
       "    }\n",
       "\n",
       "    .dataframe thead th {\n",
       "        text-align: right;\n",
       "    }\n",
       "</style>\n",
       "<table border=\"1\" class=\"dataframe\">\n",
       "  <thead>\n",
       "    <tr style=\"text-align: right;\">\n",
       "      <th></th>\n",
       "      <th>item_name</th>\n",
       "      <th>month</th>\n",
       "      <th>year</th>\n",
       "    </tr>\n",
       "  </thead>\n",
       "  <tbody>\n",
       "    <tr>\n",
       "      <th>0</th>\n",
       "      <td>1</td>\n",
       "      <td>1</td>\n",
       "      <td>2016</td>\n",
       "    </tr>\n",
       "    <tr>\n",
       "      <th>1</th>\n",
       "      <td>1</td>\n",
       "      <td>2</td>\n",
       "      <td>2016</td>\n",
       "    </tr>\n",
       "    <tr>\n",
       "      <th>2</th>\n",
       "      <td>1</td>\n",
       "      <td>3</td>\n",
       "      <td>2016</td>\n",
       "    </tr>\n",
       "    <tr>\n",
       "      <th>3</th>\n",
       "      <td>1</td>\n",
       "      <td>4</td>\n",
       "      <td>2016</td>\n",
       "    </tr>\n",
       "    <tr>\n",
       "      <th>4</th>\n",
       "      <td>1</td>\n",
       "      <td>5</td>\n",
       "      <td>2016</td>\n",
       "    </tr>\n",
       "    <tr>\n",
       "      <th>...</th>\n",
       "      <td>...</td>\n",
       "      <td>...</td>\n",
       "      <td>...</td>\n",
       "    </tr>\n",
       "    <tr>\n",
       "      <th>2023</th>\n",
       "      <td>3</td>\n",
       "      <td>8</td>\n",
       "      <td>2006</td>\n",
       "    </tr>\n",
       "    <tr>\n",
       "      <th>2024</th>\n",
       "      <td>3</td>\n",
       "      <td>9</td>\n",
       "      <td>2006</td>\n",
       "    </tr>\n",
       "    <tr>\n",
       "      <th>2025</th>\n",
       "      <td>3</td>\n",
       "      <td>10</td>\n",
       "      <td>2006</td>\n",
       "    </tr>\n",
       "    <tr>\n",
       "      <th>2026</th>\n",
       "      <td>3</td>\n",
       "      <td>11</td>\n",
       "      <td>2006</td>\n",
       "    </tr>\n",
       "    <tr>\n",
       "      <th>2027</th>\n",
       "      <td>3</td>\n",
       "      <td>12</td>\n",
       "      <td>2006</td>\n",
       "    </tr>\n",
       "  </tbody>\n",
       "</table>\n",
       "<p>2028 rows × 3 columns</p>\n",
       "</div>"
      ],
      "text/plain": [
       "      item_name  month  year\n",
       "0             1      1  2016\n",
       "1             1      2  2016\n",
       "2             1      3  2016\n",
       "3             1      4  2016\n",
       "4             1      5  2016\n",
       "...         ...    ...   ...\n",
       "2023          3      8  2006\n",
       "2024          3      9  2006\n",
       "2025          3     10  2006\n",
       "2026          3     11  2006\n",
       "2027          3     12  2006\n",
       "\n",
       "[2028 rows x 3 columns]"
      ]
     },
     "execution_count": 11,
     "metadata": {},
     "output_type": "execute_result"
    }
   ],
   "source": [
    "x"
   ]
  },
  {
   "cell_type": "code",
   "execution_count": 12,
   "id": "86976c3b",
   "metadata": {},
   "outputs": [],
   "source": [
    "x_train,x_test,y_train,y_test=train_test_split(x,y,test_size=0.2)"
   ]
  },
  {
   "cell_type": "code",
   "execution_count": 13,
   "id": "4591d6be",
   "metadata": {},
   "outputs": [],
   "source": [
    "from sklearn.ensemble import RandomForestRegressor"
   ]
  },
  {
   "cell_type": "code",
   "execution_count": 14,
   "id": "1309257e",
   "metadata": {},
   "outputs": [],
   "source": [
    "pulse=RandomForestRegressor(random_state=100)"
   ]
  },
  {
   "cell_type": "code",
   "execution_count": 15,
   "id": "dd4f6cac",
   "metadata": {},
   "outputs": [
    {
     "data": {
      "text/plain": [
       "RandomForestRegressor(random_state=100)"
      ]
     },
     "execution_count": 15,
     "metadata": {},
     "output_type": "execute_result"
    }
   ],
   "source": [
    "pulse.fit(x_train,y_train)"
   ]
  },
  {
   "cell_type": "code",
   "execution_count": 51,
   "id": "2beddb25",
   "metadata": {},
   "outputs": [
    {
     "name": "stdout",
     "output_type": "stream",
     "text": [
      "Enter the pulse name: Rongi\n",
      "Enter Month: 6\n",
      "Enter Year: 2021\n"
     ]
    }
   ],
   "source": [
    "inp1=item.fit_transform([input(\"Enter the pulse name: \")])[0]\n",
    "inp2=input(\"Enter Month: \")\n",
    "inp3=input(\"Enter Year: \")"
   ]
  },
  {
   "cell_type": "code",
   "execution_count": 52,
   "id": "cc0ca9fb",
   "metadata": {},
   "outputs": [],
   "source": [
    "total_inp=[[inp1,inp2,inp3]]"
   ]
  },
  {
   "cell_type": "code",
   "execution_count": 53,
   "id": "d9d2125f",
   "metadata": {},
   "outputs": [],
   "source": [
    "inp_arr=np.asarray(total_inp)"
   ]
  },
  {
   "cell_type": "code",
   "execution_count": 54,
   "id": "97ed2f8c",
   "metadata": {},
   "outputs": [],
   "source": [
    "inp_arr_re=inp_arr.reshape(1,-1)"
   ]
  },
  {
   "cell_type": "code",
   "execution_count": 58,
   "id": "8ed1e14e",
   "metadata": {},
   "outputs": [],
   "source": [
    "prediction=pulse.predict(inp_arr_re)"
   ]
  },
  {
   "cell_type": "code",
   "execution_count": 59,
   "id": "6b9ce062",
   "metadata": {},
   "outputs": [
    {
     "data": {
      "text/plain": [
       "array([136.19482308])"
      ]
     },
     "execution_count": 59,
     "metadata": {},
     "output_type": "execute_result"
    }
   ],
   "source": [
    "prediction"
   ]
  },
  {
   "cell_type": "code",
   "execution_count": 16,
   "id": "c2ff2441",
   "metadata": {},
   "outputs": [
    {
     "data": {
      "text/plain": [
       "0.9915939030479707"
      ]
     },
     "execution_count": 16,
     "metadata": {},
     "output_type": "execute_result"
    }
   ],
   "source": [
    "pulse.score(x_train,y_train)"
   ]
  },
  {
   "cell_type": "code",
   "execution_count": 1,
   "id": "ee4b766f",
   "metadata": {},
   "outputs": [],
   "source": [
    "import joblib"
   ]
  },
  {
   "cell_type": "code",
   "execution_count": 17,
   "id": "9b361e66",
   "metadata": {},
   "outputs": [
    {
     "data": {
      "text/plain": [
       "['D:\\\\Pulse Data\\\\predicion.sav']"
      ]
     },
     "execution_count": 17,
     "metadata": {},
     "output_type": "execute_result"
    }
   ],
   "source": [
    "joblib.dump(pulse,\"D:\\\\Pulse Data\\\\predicion.sav\")"
   ]
  },
  {
   "cell_type": "code",
   "execution_count": 18,
   "id": "cb73ac70",
   "metadata": {},
   "outputs": [
    {
     "data": {
      "text/html": [
       "<div>\n",
       "<style scoped>\n",
       "    .dataframe tbody tr th:only-of-type {\n",
       "        vertical-align: middle;\n",
       "    }\n",
       "\n",
       "    .dataframe tbody tr th {\n",
       "        vertical-align: top;\n",
       "    }\n",
       "\n",
       "    .dataframe thead th {\n",
       "        text-align: right;\n",
       "    }\n",
       "</style>\n",
       "<table border=\"1\" class=\"dataframe\">\n",
       "  <thead>\n",
       "    <tr style=\"text-align: right;\">\n",
       "      <th></th>\n",
       "      <th>item_name</th>\n",
       "      <th>month</th>\n",
       "      <th>year</th>\n",
       "      <th>price</th>\n",
       "    </tr>\n",
       "  </thead>\n",
       "  <tbody>\n",
       "    <tr>\n",
       "      <th>0</th>\n",
       "      <td>1</td>\n",
       "      <td>1</td>\n",
       "      <td>2016</td>\n",
       "      <td>168.48</td>\n",
       "    </tr>\n",
       "    <tr>\n",
       "      <th>1</th>\n",
       "      <td>1</td>\n",
       "      <td>2</td>\n",
       "      <td>2016</td>\n",
       "      <td>164.79</td>\n",
       "    </tr>\n",
       "    <tr>\n",
       "      <th>2</th>\n",
       "      <td>1</td>\n",
       "      <td>3</td>\n",
       "      <td>2016</td>\n",
       "      <td>162.12</td>\n",
       "    </tr>\n",
       "    <tr>\n",
       "      <th>3</th>\n",
       "      <td>1</td>\n",
       "      <td>4</td>\n",
       "      <td>2016</td>\n",
       "      <td>170.51</td>\n",
       "    </tr>\n",
       "    <tr>\n",
       "      <th>4</th>\n",
       "      <td>1</td>\n",
       "      <td>5</td>\n",
       "      <td>2016</td>\n",
       "      <td>162.68</td>\n",
       "    </tr>\n",
       "    <tr>\n",
       "      <th>...</th>\n",
       "      <td>...</td>\n",
       "      <td>...</td>\n",
       "      <td>...</td>\n",
       "      <td>...</td>\n",
       "    </tr>\n",
       "    <tr>\n",
       "      <th>2023</th>\n",
       "      <td>3</td>\n",
       "      <td>8</td>\n",
       "      <td>2006</td>\n",
       "      <td>85.24</td>\n",
       "    </tr>\n",
       "    <tr>\n",
       "      <th>2024</th>\n",
       "      <td>3</td>\n",
       "      <td>9</td>\n",
       "      <td>2006</td>\n",
       "      <td>97.21</td>\n",
       "    </tr>\n",
       "    <tr>\n",
       "      <th>2025</th>\n",
       "      <td>3</td>\n",
       "      <td>10</td>\n",
       "      <td>2006</td>\n",
       "      <td>89.31</td>\n",
       "    </tr>\n",
       "    <tr>\n",
       "      <th>2026</th>\n",
       "      <td>3</td>\n",
       "      <td>11</td>\n",
       "      <td>2006</td>\n",
       "      <td>96.78</td>\n",
       "    </tr>\n",
       "    <tr>\n",
       "      <th>2027</th>\n",
       "      <td>3</td>\n",
       "      <td>12</td>\n",
       "      <td>2006</td>\n",
       "      <td>95.87</td>\n",
       "    </tr>\n",
       "  </tbody>\n",
       "</table>\n",
       "<p>2028 rows × 4 columns</p>\n",
       "</div>"
      ],
      "text/plain": [
       "      item_name  month  year   price\n",
       "0             1      1  2016  168.48\n",
       "1             1      2  2016  164.79\n",
       "2             1      3  2016  162.12\n",
       "3             1      4  2016  170.51\n",
       "4             1      5  2016  162.68\n",
       "...         ...    ...   ...     ...\n",
       "2023          3      8  2006   85.24\n",
       "2024          3      9  2006   97.21\n",
       "2025          3     10  2006   89.31\n",
       "2026          3     11  2006   96.78\n",
       "2027          3     12  2006   95.87\n",
       "\n",
       "[2028 rows x 4 columns]"
      ]
     },
     "execution_count": 18,
     "metadata": {},
     "output_type": "execute_result"
    }
   ],
   "source": [
    "df"
   ]
  },
  {
   "cell_type": "code",
   "execution_count": 20,
   "id": "ce3bb704",
   "metadata": {},
   "outputs": [
    {
     "data": {
      "text/html": [
       "<div>\n",
       "<style scoped>\n",
       "    .dataframe tbody tr th:only-of-type {\n",
       "        vertical-align: middle;\n",
       "    }\n",
       "\n",
       "    .dataframe tbody tr th {\n",
       "        vertical-align: top;\n",
       "    }\n",
       "\n",
       "    .dataframe thead th {\n",
       "        text-align: right;\n",
       "    }\n",
       "</style>\n",
       "<table border=\"1\" class=\"dataframe\">\n",
       "  <thead>\n",
       "    <tr style=\"text-align: right;\">\n",
       "      <th></th>\n",
       "      <th>item_name</th>\n",
       "      <th>month</th>\n",
       "      <th>year</th>\n",
       "      <th>price</th>\n",
       "    </tr>\n",
       "  </thead>\n",
       "  <tbody>\n",
       "    <tr>\n",
       "      <th>0</th>\n",
       "      <td>Black Gram</td>\n",
       "      <td>1</td>\n",
       "      <td>2016</td>\n",
       "      <td>168.48</td>\n",
       "    </tr>\n",
       "    <tr>\n",
       "      <th>1</th>\n",
       "      <td>Black Gram</td>\n",
       "      <td>2</td>\n",
       "      <td>2016</td>\n",
       "      <td>164.79</td>\n",
       "    </tr>\n",
       "    <tr>\n",
       "      <th>2</th>\n",
       "      <td>Black Gram</td>\n",
       "      <td>3</td>\n",
       "      <td>2016</td>\n",
       "      <td>162.12</td>\n",
       "    </tr>\n",
       "    <tr>\n",
       "      <th>3</th>\n",
       "      <td>Black Gram</td>\n",
       "      <td>4</td>\n",
       "      <td>2016</td>\n",
       "      <td>170.51</td>\n",
       "    </tr>\n",
       "    <tr>\n",
       "      <th>4</th>\n",
       "      <td>Black Gram</td>\n",
       "      <td>5</td>\n",
       "      <td>2016</td>\n",
       "      <td>162.68</td>\n",
       "    </tr>\n",
       "    <tr>\n",
       "      <th>...</th>\n",
       "      <td>...</td>\n",
       "      <td>...</td>\n",
       "      <td>...</td>\n",
       "      <td>...</td>\n",
       "    </tr>\n",
       "    <tr>\n",
       "      <th>2023</th>\n",
       "      <td>Horse Gram (Kulthi)</td>\n",
       "      <td>8</td>\n",
       "      <td>2006</td>\n",
       "      <td>85.24</td>\n",
       "    </tr>\n",
       "    <tr>\n",
       "      <th>2024</th>\n",
       "      <td>Horse Gram (Kulthi)</td>\n",
       "      <td>9</td>\n",
       "      <td>2006</td>\n",
       "      <td>97.21</td>\n",
       "    </tr>\n",
       "    <tr>\n",
       "      <th>2025</th>\n",
       "      <td>Horse Gram (Kulthi)</td>\n",
       "      <td>10</td>\n",
       "      <td>2006</td>\n",
       "      <td>89.31</td>\n",
       "    </tr>\n",
       "    <tr>\n",
       "      <th>2026</th>\n",
       "      <td>Horse Gram (Kulthi)</td>\n",
       "      <td>11</td>\n",
       "      <td>2006</td>\n",
       "      <td>96.78</td>\n",
       "    </tr>\n",
       "    <tr>\n",
       "      <th>2027</th>\n",
       "      <td>Horse Gram (Kulthi)</td>\n",
       "      <td>12</td>\n",
       "      <td>2006</td>\n",
       "      <td>95.87</td>\n",
       "    </tr>\n",
       "  </tbody>\n",
       "</table>\n",
       "<p>2028 rows × 4 columns</p>\n",
       "</div>"
      ],
      "text/plain": [
       "                item_name  month  year   price\n",
       "0              Black Gram      1  2016  168.48\n",
       "1              Black Gram      2  2016  164.79\n",
       "2              Black Gram      3  2016  162.12\n",
       "3              Black Gram      4  2016  170.51\n",
       "4              Black Gram      5  2016  162.68\n",
       "...                   ...    ...   ...     ...\n",
       "2023  Horse Gram (Kulthi)      8  2006   85.24\n",
       "2024  Horse Gram (Kulthi)      9  2006   97.21\n",
       "2025  Horse Gram (Kulthi)     10  2006   89.31\n",
       "2026  Horse Gram (Kulthi)     11  2006   96.78\n",
       "2027  Horse Gram (Kulthi)     12  2006   95.87\n",
       "\n",
       "[2028 rows x 4 columns]"
      ]
     },
     "execution_count": 20,
     "metadata": {},
     "output_type": "execute_result"
    }
   ],
   "source": [
    "df"
   ]
  },
  {
   "cell_type": "code",
   "execution_count": 22,
   "id": "7ad157ce",
   "metadata": {},
   "outputs": [],
   "source": [
    "names=df.item_name.unique()"
   ]
  },
  {
   "cell_type": "code",
   "execution_count": 28,
   "id": "4f2f624c",
   "metadata": {},
   "outputs": [
    {
     "name": "stdout",
     "output_type": "stream",
     "text": [
      "<option value='Black Gram'>Black Gram</option>\n",
      "<option value='White Gram(Kabli Chana)'>White Gram(Kabli Chana)</option>\n",
      "<option value='Urad Dal'>Urad Dal</option>\n",
      "<option value='Urad Whole'>Urad Whole</option>\n",
      "<option value='Barbati dal'>Barbati dal</option>\n",
      "<option value='Peas Dal'>Peas Dal</option>\n",
      "<option value='Rongi'>Rongi</option>\n",
      "<option value='Moong Dal'>Moong Dal</option>\n",
      "<option value='Masur Whole'>Masur Whole</option>\n",
      "<option value='Gram Dal'>Gram Dal</option>\n",
      "<option value='Rajmah'>Rajmah</option>\n",
      "<option value='Horse Gram (Kulthi)'>Horse Gram (Kulthi)</option>\n"
     ]
    }
   ],
   "source": [
    "for i in names:\n",
    "    print(f\"<option value='{i}'>{i}</option>\")"
   ]
  },
  {
   "cell_type": "code",
   "execution_count": null,
   "id": "d2be0dfa",
   "metadata": {},
   "outputs": [],
   "source": []
  }
 ],
 "metadata": {
  "kernelspec": {
   "display_name": "Python 3",
   "language": "python",
   "name": "python3"
  },
  "language_info": {
   "codemirror_mode": {
    "name": "ipython",
    "version": 3
   },
   "file_extension": ".py",
   "mimetype": "text/x-python",
   "name": "python",
   "nbconvert_exporter": "python",
   "pygments_lexer": "ipython3",
   "version": "3.9.5"
  }
 },
 "nbformat": 4,
 "nbformat_minor": 5
}
