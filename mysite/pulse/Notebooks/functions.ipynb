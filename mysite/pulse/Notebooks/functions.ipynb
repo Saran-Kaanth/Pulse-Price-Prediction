{
 "cells": [
  {
   "cell_type": "code",
   "execution_count": 1,
   "id": "2155421d",
   "metadata": {},
   "outputs": [],
   "source": [
    "def rounding_val(df,price):\n",
    "    for i,row in df.iterrows():\n",
    "        df.loc[i,\"price\"]=round(row[\"price\"],2)\n",
    "        print(row[\"price\"])\n",
    "    return df"
   ]
  },
  {
   "cell_type": "code",
   "execution_count": 4,
   "id": "392ef078",
   "metadata": {},
   "outputs": [],
   "source": [
    "def mod_val(raungi,min_value):\n",
    "    for i,row in raungi.iterrows():\n",
    "        if(row[\"price\"]>min_value+10 and row[\"price\"]<200):\n",
    "    #         print(row[\"price\"])\n",
    "            raungi.loc[i,\"price\"]=row[\"price\"]-28\n",
    "        elif(row[\"price\"]>=200 and row[\"price\"]<=270):\n",
    "    #         print(row[\"price\"])\n",
    "            raungi.loc[i,\"price\"]=row[\"price\"]-35\n",
    "        elif(row[\"price\"]>270 and row[\"price\"]<=max(raungi.price)):\n",
    "            raungi.loc[i,\"price\"]=row[\"price\"]-100\n",
    "    #         print(row[\"price\"])\n",
    "    #         if(row[\"date\"].year==2008):\n",
    "    #             print(row[\"date\"].year,row[\"price\"])\n",
    "    return raungi\n",
    "\n",
    "def rounding_val(df,price):\n",
    "    for i,row in df.iterrows():\n",
    "        df.loc[i,\"price\"]=round(row[\"price\"],2)\n",
    "        print(row[\"price\"])\n",
    "    return df\n",
    "\n",
    "def change_date(df,date):\n",
    "    for i,row in df.iterrows():\n",
    "        df.loc[i,\"month\"]=row[\"date\"].month\n",
    "        df.loc[i,\"year\"]=row[\"date\"].year\n",
    "    return df\n",
    "\n",
    "def sep_data(name):\n",
    "    dataset=df[df.item_name==name]\n",
    "    dataset.set_index([pd.Index([i for i in range(len(dataset))])],inplace=True)\n",
    "    return dataset\n",
    "\n",
    "def set_ind(dataset):\n",
    "    dataset.set_index([pd.Index([i for i in range(len(dataset))])],inplace=True)\n",
    "    return dataset\n",
    "\n",
    "def o_data(d_name):\n",
    "    o_data=d_name[[\"item_name\",\"month\",\"year\",\"price\"]]\n",
    "    return o_data\n",
    "\n",
    "def type_change(data,month,year):\n",
    "    data.month=data.month.astype(\"int64\")\n",
    "    data.year=data.year.astype(\"int64\")\n",
    "    return data\n",
    "\n",
    "def type_change(data,month,year):\n",
    "    data.month=data.month.astype(\"int64\")\n",
    "    data.year=data.year.astype(\"int64\")\n",
    "    return data"
   ]
  },
  {
   "cell_type": "code",
   "execution_count": 6,
   "id": "7072083c",
   "metadata": {},
   "outputs": [
    {
     "ename": "NameError",
     "evalue": "name 'rajmah' is not defined",
     "output_type": "error",
     "traceback": [
      "\u001b[1;31m---------------------------------------------------------------------------\u001b[0m",
      "\u001b[1;31mNameError\u001b[0m                                 Traceback (most recent call last)",
      "\u001b[1;32m<ipython-input-6-5501a7ec7e31>\u001b[0m in \u001b[0;36m<module>\u001b[1;34m\u001b[0m\n\u001b[1;32m----> 1\u001b[1;33m \u001b[0mrajmah\u001b[0m\u001b[1;33m.\u001b[0m\u001b[0mprice\u001b[0m\u001b[1;33m.\u001b[0m\u001b[0munique\u001b[0m\u001b[1;33m(\u001b[0m\u001b[1;33m)\u001b[0m\u001b[1;33m\u001b[0m\u001b[1;33m\u001b[0m\u001b[0m\n\u001b[0m",
      "\u001b[1;31mNameError\u001b[0m: name 'rajmah' is not defined"
     ]
    }
   ],
   "source": [
    "rajmah.price.unique()"
   ]
  },
  {
   "cell_type": "code",
   "execution_count": null,
   "id": "0fc77b37",
   "metadata": {},
   "outputs": [],
   "source": []
  }
 ],
 "metadata": {
  "kernelspec": {
   "display_name": "Python 3",
   "language": "python",
   "name": "python3"
  },
  "language_info": {
   "codemirror_mode": {
    "name": "ipython",
    "version": 3
   },
   "file_extension": ".py",
   "mimetype": "text/x-python",
   "name": "python",
   "nbconvert_exporter": "python",
   "pygments_lexer": "ipython3",
   "version": "3.9.5"
  }
 },
 "nbformat": 4,
 "nbformat_minor": 5
}
